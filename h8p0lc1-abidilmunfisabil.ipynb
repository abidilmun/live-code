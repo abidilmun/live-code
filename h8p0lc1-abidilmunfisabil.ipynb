{
 "cells": [
  {
   "cell_type": "markdown",
   "metadata": {},
   "source": [
    "# Introduction\n",
    "Hello, there!\n",
    "<br>\n",
    "this notebook is written by Abid Ilmun Fisabil\n",
    "<br>\n",
    "a student at hactiv8 Full Time Data Science bootcamp program batch-006\n"
   ]
  },
  {
   "cell_type": "markdown",
   "metadata": {},
   "source": [
    "# Problems\n",
    "1-1. creating resistance and power functions<br>\n",
    "1-2. creating new column named 'R/P<br>\n",
    "1-3. calculating the mean for current equals to 1 Ampere and capacity equals to odd number"
   ]
  },
  {
   "cell_type": "markdown",
   "metadata": {},
   "source": [
    "# Importing Dependencies"
   ]
  },
  {
   "cell_type": "code",
   "execution_count": 1,
   "metadata": {
    "execution": {
     "iopub.execute_input": "2021-11-22T03:53:15.285675Z",
     "iopub.status.busy": "2021-11-22T03:53:15.284881Z",
     "iopub.status.idle": "2021-11-22T03:53:15.293481Z",
     "shell.execute_reply": "2021-11-22T03:53:15.292781Z",
     "shell.execute_reply.started": "2021-11-22T03:53:15.285633Z"
    }
   },
   "outputs": [],
   "source": [
    "import pandas as pd"
   ]
  },
  {
   "cell_type": "markdown",
   "metadata": {},
   "source": [
    "# Loading Dataset"
   ]
  },
  {
   "cell_type": "code",
   "execution_count": 2,
   "metadata": {
    "execution": {
     "iopub.execute_input": "2021-11-22T03:53:15.310723Z",
     "iopub.status.busy": "2021-11-22T03:53:15.310186Z",
     "iopub.status.idle": "2021-11-22T03:53:25.728296Z",
     "shell.execute_reply": "2021-11-22T03:53:25.72732Z",
     "shell.execute_reply.started": "2021-11-22T03:53:15.310673Z"
    }
   },
   "outputs": [
    {
     "data": {
      "text/html": [
       "<div>\n",
       "<style scoped>\n",
       "    .dataframe tbody tr th:only-of-type {\n",
       "        vertical-align: middle;\n",
       "    }\n",
       "\n",
       "    .dataframe tbody tr th {\n",
       "        vertical-align: top;\n",
       "    }\n",
       "\n",
       "    .dataframe thead th {\n",
       "        text-align: right;\n",
       "    }\n",
       "</style>\n",
       "<table border=\"1\" class=\"dataframe\">\n",
       "  <thead>\n",
       "    <tr style=\"text-align: right;\">\n",
       "      <th></th>\n",
       "      <th>time(s)</th>\n",
       "      <th>V_m</th>\n",
       "      <th>Current (A)</th>\n",
       "      <th>Cycle</th>\n",
       "      <th>Cap</th>\n",
       "    </tr>\n",
       "  </thead>\n",
       "  <tbody>\n",
       "    <tr>\n",
       "      <th>0</th>\n",
       "      <td>0</td>\n",
       "      <td>4.098</td>\n",
       "      <td>0.997</td>\n",
       "      <td>1</td>\n",
       "      <td>2.840817</td>\n",
       "    </tr>\n",
       "    <tr>\n",
       "      <th>1</th>\n",
       "      <td>1</td>\n",
       "      <td>4.096</td>\n",
       "      <td>0.998</td>\n",
       "      <td>1</td>\n",
       "      <td>2.840817</td>\n",
       "    </tr>\n",
       "    <tr>\n",
       "      <th>2</th>\n",
       "      <td>2</td>\n",
       "      <td>4.094</td>\n",
       "      <td>0.999</td>\n",
       "      <td>1</td>\n",
       "      <td>2.840817</td>\n",
       "    </tr>\n",
       "    <tr>\n",
       "      <th>3</th>\n",
       "      <td>3</td>\n",
       "      <td>4.093</td>\n",
       "      <td>0.998</td>\n",
       "      <td>1</td>\n",
       "      <td>2.840817</td>\n",
       "    </tr>\n",
       "    <tr>\n",
       "      <th>4</th>\n",
       "      <td>4</td>\n",
       "      <td>4.092</td>\n",
       "      <td>0.999</td>\n",
       "      <td>1</td>\n",
       "      <td>2.840817</td>\n",
       "    </tr>\n",
       "  </tbody>\n",
       "</table>\n",
       "</div>"
      ],
      "text/plain": [
       "   time(s)    V_m  Current (A)  Cycle       Cap\n",
       "0        0  4.098        0.997      1  2.840817\n",
       "1        1  4.096        0.998      1  2.840817\n",
       "2        2  4.094        0.999      1  2.840817\n",
       "3        3  4.093        0.998      1  2.840817\n",
       "4        4  4.092        0.999      1  2.840817"
      ]
     },
     "execution_count": 2,
     "metadata": {},
     "output_type": "execute_result"
    }
   ],
   "source": [
    "df = pd.read_excel('NMC1-9.xlsx', engine = 'openpyxl')# importing dataset\n",
    "df.head() # inspecting first 5 rows"
   ]
  },
  {
   "cell_type": "code",
   "execution_count": 3,
   "metadata": {
    "execution": {
     "iopub.execute_input": "2021-11-22T03:53:25.730153Z",
     "iopub.status.busy": "2021-11-22T03:53:25.729887Z",
     "iopub.status.idle": "2021-11-22T03:53:25.736824Z",
     "shell.execute_reply": "2021-11-22T03:53:25.735897Z",
     "shell.execute_reply.started": "2021-11-22T03:53:25.730121Z"
    }
   },
   "outputs": [
    {
     "data": {
      "text/plain": [
       "(90982, 5)"
      ]
     },
     "execution_count": 3,
     "metadata": {},
     "output_type": "execute_result"
    }
   ],
   "source": [
    "df.shape"
   ]
  },
  {
   "cell_type": "markdown",
   "metadata": {
    "execution": {
     "iopub.execute_input": "2021-11-22T03:08:48.291722Z",
     "iopub.status.busy": "2021-11-22T03:08:48.291103Z",
     "iopub.status.idle": "2021-11-22T03:08:48.29712Z",
     "shell.execute_reply": "2021-11-22T03:08:48.296263Z",
     "shell.execute_reply.started": "2021-11-22T03:08:48.291653Z"
    }
   },
   "source": [
    "we have currently a dataset that consists of 5 columns of 90982 observations"
   ]
  },
  {
   "cell_type": "code",
   "execution_count": 4,
   "metadata": {
    "execution": {
     "iopub.execute_input": "2021-11-22T03:53:25.738421Z",
     "iopub.status.busy": "2021-11-22T03:53:25.738094Z",
     "iopub.status.idle": "2021-11-22T03:53:25.760023Z",
     "shell.execute_reply": "2021-11-22T03:53:25.759287Z",
     "shell.execute_reply.started": "2021-11-22T03:53:25.738341Z"
    }
   },
   "outputs": [
    {
     "name": "stdout",
     "output_type": "stream",
     "text": [
      "<class 'pandas.core.frame.DataFrame'>\n",
      "RangeIndex: 90982 entries, 0 to 90981\n",
      "Data columns (total 5 columns):\n",
      " #   Column       Non-Null Count  Dtype  \n",
      "---  ------       --------------  -----  \n",
      " 0   time(s)      90982 non-null  int64  \n",
      " 1   V_m          90982 non-null  float64\n",
      " 2   Current (A)  90982 non-null  float64\n",
      " 3   Cycle        90982 non-null  int64  \n",
      " 4   Cap          90982 non-null  float64\n",
      "dtypes: float64(3), int64(2)\n",
      "memory usage: 3.5 MB\n"
     ]
    }
   ],
   "source": [
    "df.info()"
   ]
  },
  {
   "cell_type": "markdown",
   "metadata": {},
   "source": [
    "we can see above that no null values detected and it seems that each column is already with the right data type"
   ]
  },
  {
   "cell_type": "code",
   "execution_count": 5,
   "metadata": {
    "execution": {
     "iopub.execute_input": "2021-11-22T03:53:25.7627Z",
     "iopub.status.busy": "2021-11-22T03:53:25.762209Z",
     "iopub.status.idle": "2021-11-22T03:53:25.822097Z",
     "shell.execute_reply": "2021-11-22T03:53:25.821297Z",
     "shell.execute_reply.started": "2021-11-22T03:53:25.762667Z"
    }
   },
   "outputs": [
    {
     "data": {
      "text/html": [
       "<div>\n",
       "<style scoped>\n",
       "    .dataframe tbody tr th:only-of-type {\n",
       "        vertical-align: middle;\n",
       "    }\n",
       "\n",
       "    .dataframe tbody tr th {\n",
       "        vertical-align: top;\n",
       "    }\n",
       "\n",
       "    .dataframe thead th {\n",
       "        text-align: right;\n",
       "    }\n",
       "</style>\n",
       "<table border=\"1\" class=\"dataframe\">\n",
       "  <thead>\n",
       "    <tr style=\"text-align: right;\">\n",
       "      <th></th>\n",
       "      <th>time(s)</th>\n",
       "      <th>V_m</th>\n",
       "      <th>Current (A)</th>\n",
       "      <th>Cycle</th>\n",
       "      <th>Cap</th>\n",
       "    </tr>\n",
       "  </thead>\n",
       "  <tbody>\n",
       "    <tr>\n",
       "      <th>count</th>\n",
       "      <td>90982.000000</td>\n",
       "      <td>90982.000000</td>\n",
       "      <td>90982.000000</td>\n",
       "      <td>90982.000000</td>\n",
       "      <td>90982.000000</td>\n",
       "    </tr>\n",
       "    <tr>\n",
       "      <th>mean</th>\n",
       "      <td>45490.500000</td>\n",
       "      <td>3.607666</td>\n",
       "      <td>0.999264</td>\n",
       "      <td>4.978699</td>\n",
       "      <td>2.806214</td>\n",
       "    </tr>\n",
       "    <tr>\n",
       "      <th>std</th>\n",
       "      <td>26264.385433</td>\n",
       "      <td>0.322777</td>\n",
       "      <td>0.001997</td>\n",
       "      <td>2.582135</td>\n",
       "      <td>0.023283</td>\n",
       "    </tr>\n",
       "    <tr>\n",
       "      <th>min</th>\n",
       "      <td>0.000000</td>\n",
       "      <td>2.497000</td>\n",
       "      <td>0.993000</td>\n",
       "      <td>1.000000</td>\n",
       "      <td>2.770180</td>\n",
       "    </tr>\n",
       "    <tr>\n",
       "      <th>25%</th>\n",
       "      <td>22745.250000</td>\n",
       "      <td>3.422000</td>\n",
       "      <td>0.997000</td>\n",
       "      <td>3.000000</td>\n",
       "      <td>2.786860</td>\n",
       "    </tr>\n",
       "    <tr>\n",
       "      <th>50%</th>\n",
       "      <td>45490.500000</td>\n",
       "      <td>3.636000</td>\n",
       "      <td>0.999000</td>\n",
       "      <td>5.000000</td>\n",
       "      <td>2.804878</td>\n",
       "    </tr>\n",
       "    <tr>\n",
       "      <th>75%</th>\n",
       "      <td>68235.750000</td>\n",
       "      <td>3.868000</td>\n",
       "      <td>1.001000</td>\n",
       "      <td>7.000000</td>\n",
       "      <td>2.823520</td>\n",
       "    </tr>\n",
       "    <tr>\n",
       "      <th>max</th>\n",
       "      <td>90981.000000</td>\n",
       "      <td>4.114000</td>\n",
       "      <td>1.003000</td>\n",
       "      <td>9.000000</td>\n",
       "      <td>2.840817</td>\n",
       "    </tr>\n",
       "  </tbody>\n",
       "</table>\n",
       "</div>"
      ],
      "text/plain": [
       "            time(s)           V_m   Current (A)         Cycle           Cap\n",
       "count  90982.000000  90982.000000  90982.000000  90982.000000  90982.000000\n",
       "mean   45490.500000      3.607666      0.999264      4.978699      2.806214\n",
       "std    26264.385433      0.322777      0.001997      2.582135      0.023283\n",
       "min        0.000000      2.497000      0.993000      1.000000      2.770180\n",
       "25%    22745.250000      3.422000      0.997000      3.000000      2.786860\n",
       "50%    45490.500000      3.636000      0.999000      5.000000      2.804878\n",
       "75%    68235.750000      3.868000      1.001000      7.000000      2.823520\n",
       "max    90981.000000      4.114000      1.003000      9.000000      2.840817"
      ]
     },
     "execution_count": 5,
     "metadata": {},
     "output_type": "execute_result"
    }
   ],
   "source": [
    "df.describe()"
   ]
  },
  {
   "cell_type": "markdown",
   "metadata": {},
   "source": [
    "- the average Current measured as Ampere is at 0.9\n",
    "- battery capacity is 2.8 on average\n",
    "- the baterry voltage is at 3.6 on average"
   ]
  },
  {
   "cell_type": "markdown",
   "metadata": {},
   "source": [
    "# Answers"
   ]
  },
  {
   "cell_type": "markdown",
   "metadata": {},
   "source": [
    "## 1-1"
   ]
  },
  {
   "cell_type": "code",
   "execution_count": 6,
   "metadata": {
    "execution": {
     "iopub.execute_input": "2021-11-22T03:53:25.823777Z",
     "iopub.status.busy": "2021-11-22T03:53:25.823494Z",
     "iopub.status.idle": "2021-11-22T03:53:25.829485Z",
     "shell.execute_reply": "2021-11-22T03:53:25.828289Z",
     "shell.execute_reply.started": "2021-11-22T03:53:25.823745Z"
    }
   },
   "outputs": [],
   "source": [
    "def resistance(v,i):\n",
    "    '''\n",
    "    this function will calculate resistance by dividing v to i\n",
    "    :params:v|int/float\n",
    "           :i|int/float\n",
    "    :return:r|int/float\n",
    "    '''\n",
    "    r = v/i\n",
    "    return r\n",
    "\n",
    "def power(v,i):\n",
    "    '''\n",
    "    this function will calculate power by multiplying v and i\n",
    "    :params:v|int/float\n",
    "           :i|int/float\n",
    "    :return:r|int/float\n",
    "    '''\n",
    "    p = v*i\n",
    "    return p"
   ]
  },
  {
   "cell_type": "markdown",
   "metadata": {},
   "source": [
    "## 1-2"
   ]
  },
  {
   "cell_type": "code",
   "execution_count": 7,
   "metadata": {
    "execution": {
     "iopub.execute_input": "2021-11-22T03:53:25.832002Z",
     "iopub.status.busy": "2021-11-22T03:53:25.831039Z",
     "iopub.status.idle": "2021-11-22T03:53:28.90018Z",
     "shell.execute_reply": "2021-11-22T03:53:28.899171Z",
     "shell.execute_reply.started": "2021-11-22T03:53:25.831965Z"
    }
   },
   "outputs": [
    {
     "data": {
      "text/html": [
       "<div>\n",
       "<style scoped>\n",
       "    .dataframe tbody tr th:only-of-type {\n",
       "        vertical-align: middle;\n",
       "    }\n",
       "\n",
       "    .dataframe tbody tr th {\n",
       "        vertical-align: top;\n",
       "    }\n",
       "\n",
       "    .dataframe thead th {\n",
       "        text-align: right;\n",
       "    }\n",
       "</style>\n",
       "<table border=\"1\" class=\"dataframe\">\n",
       "  <thead>\n",
       "    <tr style=\"text-align: right;\">\n",
       "      <th></th>\n",
       "      <th>time(s)</th>\n",
       "      <th>V_m</th>\n",
       "      <th>Current (A)</th>\n",
       "      <th>Cycle</th>\n",
       "      <th>Cap</th>\n",
       "      <th>R/P</th>\n",
       "    </tr>\n",
       "  </thead>\n",
       "  <tbody>\n",
       "    <tr>\n",
       "      <th>0</th>\n",
       "      <td>0</td>\n",
       "      <td>4.098</td>\n",
       "      <td>0.997</td>\n",
       "      <td>1</td>\n",
       "      <td>2.840817</td>\n",
       "      <td>4.085706</td>\n",
       "    </tr>\n",
       "    <tr>\n",
       "      <th>1</th>\n",
       "      <td>1</td>\n",
       "      <td>4.096</td>\n",
       "      <td>0.998</td>\n",
       "      <td>1</td>\n",
       "      <td>2.840817</td>\n",
       "      <td>4.087808</td>\n",
       "    </tr>\n",
       "    <tr>\n",
       "      <th>2</th>\n",
       "      <td>2</td>\n",
       "      <td>4.094</td>\n",
       "      <td>0.999</td>\n",
       "      <td>1</td>\n",
       "      <td>2.840817</td>\n",
       "      <td>4.089906</td>\n",
       "    </tr>\n",
       "    <tr>\n",
       "      <th>3</th>\n",
       "      <td>3</td>\n",
       "      <td>4.093</td>\n",
       "      <td>0.998</td>\n",
       "      <td>1</td>\n",
       "      <td>2.840817</td>\n",
       "      <td>4.084814</td>\n",
       "    </tr>\n",
       "    <tr>\n",
       "      <th>4</th>\n",
       "      <td>4</td>\n",
       "      <td>4.092</td>\n",
       "      <td>0.999</td>\n",
       "      <td>1</td>\n",
       "      <td>2.840817</td>\n",
       "      <td>4.087908</td>\n",
       "    </tr>\n",
       "  </tbody>\n",
       "</table>\n",
       "</div>"
      ],
      "text/plain": [
       "   time(s)    V_m  Current (A)  Cycle       Cap       R/P\n",
       "0        0  4.098        0.997      1  2.840817  4.085706\n",
       "1        1  4.096        0.998      1  2.840817  4.087808\n",
       "2        2  4.094        0.999      1  2.840817  4.089906\n",
       "3        3  4.093        0.998      1  2.840817  4.084814\n",
       "4        4  4.092        0.999      1  2.840817  4.087908"
      ]
     },
     "execution_count": 7,
     "metadata": {},
     "output_type": "execute_result"
    }
   ],
   "source": [
    "#initiate a list for R/P column\n",
    "rp = []\n",
    "\n",
    "#loop through dataset\n",
    "for i in range(df.index[-1]+1):\n",
    "    #create conditioning power function will be used for df.Cap >= 2.5 and  and resistance function for df.Cap < 2.5\n",
    "    if df.Cap[i]>=2.5:\n",
    "        #create a variabel stores the result from column V_m and Current(A) calculation\n",
    "        pow = power(df.V_m[i],df['Current (A)'][i])\n",
    "        #add pow variable as a new element for list rp\n",
    "        rp.append(pow)\n",
    "    elif df.Cap[i]<2.5:\n",
    "        #create a variabel stores the result from column V_m and Current(A) calculation\n",
    "        res = resistance(df.V_m[i],df['Current (A)'][i])\n",
    "        #add res variable as a new element for list rp\n",
    "        rp.append(res)\n",
    "\n",
    "#create a new column for our df and name it R/P\n",
    "df['R/P'] = rp\n",
    "\n",
    "#inspect df to see our new column\n",
    "df.head()"
   ]
  },
  {
   "cell_type": "markdown",
   "metadata": {},
   "source": [
    "## 1-3"
   ]
  },
  {
   "cell_type": "code",
   "execution_count": 8,
   "metadata": {
    "execution": {
     "iopub.execute_input": "2021-11-22T03:53:28.902186Z",
     "iopub.status.busy": "2021-11-22T03:53:28.901776Z",
     "iopub.status.idle": "2021-11-22T03:53:28.916725Z",
     "shell.execute_reply": "2021-11-22T03:53:28.915548Z",
     "shell.execute_reply.started": "2021-11-22T03:53:28.90214Z"
    }
   },
   "outputs": [
    {
     "data": {
      "text/plain": [
       "2.8064845553927484"
      ]
     },
     "execution_count": 8,
     "metadata": {},
     "output_type": "execute_result"
    }
   ],
   "source": [
    "# filter the data frame \n",
    "cap_filtered_df = df[(df['Current (A)'] == 1) & (df.Cycle % 2 != 0)]\n",
    "# calculate the average of 'Cap' column\n",
    "cap_filtered_df.Cap.mean()"
   ]
  },
  {
   "cell_type": "markdown",
   "metadata": {},
   "source": [
    "above stated that the average for battery capacity is around 2.8"
   ]
  }
 ],
 "metadata": {
  "kernelspec": {
   "display_name": "Python 3 (ipykernel)",
   "language": "python",
   "name": "python3"
  },
  "language_info": {
   "codemirror_mode": {
    "name": "ipython",
    "version": 3
   },
   "file_extension": ".py",
   "mimetype": "text/x-python",
   "name": "python",
   "nbconvert_exporter": "python",
   "pygments_lexer": "ipython3",
   "version": "3.8.10"
  }
 },
 "nbformat": 4,
 "nbformat_minor": 4
}
